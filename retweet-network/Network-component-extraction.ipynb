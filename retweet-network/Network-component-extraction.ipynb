{
 "cells": [
  {
   "cell_type": "markdown",
   "id": "f2c8eeec",
   "metadata": {},
   "source": [
    "# Building the retweet network (part 3)"
   ]
  },
  {
   "cell_type": "markdown",
   "id": "c54404bb",
   "metadata": {},
   "source": [
    "Having a list of edges does not imply a connected underlying graph.  \n",
    "Many isolated graphs (components) could be found.  \n",
    "The biggest (giant) component will be extracted."
   ]
  },
  {
   "cell_type": "code",
   "execution_count": 1,
   "id": "e6f93186",
   "metadata": {},
   "outputs": [],
   "source": [
    "import pandas as pd\n",
    "import networkx as nx"
   ]
  },
  {
   "cell_type": "code",
   "execution_count": 2,
   "id": "353565c2",
   "metadata": {},
   "outputs": [],
   "source": [
    "edgelist_df = pd.read_csv(\"edgelist.csv\", index_col=0)"
   ]
  },
  {
   "cell_type": "code",
   "execution_count": 3,
   "id": "2e25f384",
   "metadata": {},
   "outputs": [
    {
     "data": {
      "text/html": [
       "<div>\n",
       "<style scoped>\n",
       "    .dataframe tbody tr th:only-of-type {\n",
       "        vertical-align: middle;\n",
       "    }\n",
       "\n",
       "    .dataframe tbody tr th {\n",
       "        vertical-align: top;\n",
       "    }\n",
       "\n",
       "    .dataframe thead th {\n",
       "        text-align: right;\n",
       "    }\n",
       "</style>\n",
       "<table border=\"1\" class=\"dataframe\">\n",
       "  <thead>\n",
       "    <tr style=\"text-align: right;\">\n",
       "      <th></th>\n",
       "      <th>source</th>\n",
       "      <th>retweeter</th>\n",
       "      <th>weight</th>\n",
       "    </tr>\n",
       "  </thead>\n",
       "  <tbody>\n",
       "    <tr>\n",
       "      <th>0</th>\n",
       "      <td>1248341835770200064</td>\n",
       "      <td>1248341835770200064</td>\n",
       "      <td>1308</td>\n",
       "    </tr>\n",
       "    <tr>\n",
       "      <th>1</th>\n",
       "      <td>150725695</td>\n",
       "      <td>3613396888</td>\n",
       "      <td>379</td>\n",
       "    </tr>\n",
       "    <tr>\n",
       "      <th>2</th>\n",
       "      <td>150725695</td>\n",
       "      <td>841701064118284288</td>\n",
       "      <td>326</td>\n",
       "    </tr>\n",
       "    <tr>\n",
       "      <th>3</th>\n",
       "      <td>52424550</td>\n",
       "      <td>841701064118284288</td>\n",
       "      <td>320</td>\n",
       "    </tr>\n",
       "    <tr>\n",
       "      <th>4</th>\n",
       "      <td>331617619</td>\n",
       "      <td>1084450777748459520</td>\n",
       "      <td>308</td>\n",
       "    </tr>\n",
       "    <tr>\n",
       "      <th>...</th>\n",
       "      <td>...</td>\n",
       "      <td>...</td>\n",
       "      <td>...</td>\n",
       "    </tr>\n",
       "    <tr>\n",
       "      <th>1006454</th>\n",
       "      <td>1683455144</td>\n",
       "      <td>751020639587332102</td>\n",
       "      <td>1</td>\n",
       "    </tr>\n",
       "    <tr>\n",
       "      <th>1006455</th>\n",
       "      <td>1683455144</td>\n",
       "      <td>752255117232054276</td>\n",
       "      <td>1</td>\n",
       "    </tr>\n",
       "    <tr>\n",
       "      <th>1006456</th>\n",
       "      <td>1683455144</td>\n",
       "      <td>752845778</td>\n",
       "      <td>1</td>\n",
       "    </tr>\n",
       "    <tr>\n",
       "      <th>1006457</th>\n",
       "      <td>1683455144</td>\n",
       "      <td>756947491787010048</td>\n",
       "      <td>1</td>\n",
       "    </tr>\n",
       "    <tr>\n",
       "      <th>1006458</th>\n",
       "      <td>999962406003625984</td>\n",
       "      <td>999962406003625984</td>\n",
       "      <td>1</td>\n",
       "    </tr>\n",
       "  </tbody>\n",
       "</table>\n",
       "<p>1006459 rows × 3 columns</p>\n",
       "</div>"
      ],
      "text/plain": [
       "                      source            retweeter  weight\n",
       "0        1248341835770200064  1248341835770200064    1308\n",
       "1                  150725695           3613396888     379\n",
       "2                  150725695   841701064118284288     326\n",
       "3                   52424550   841701064118284288     320\n",
       "4                  331617619  1084450777748459520     308\n",
       "...                      ...                  ...     ...\n",
       "1006454           1683455144   751020639587332102       1\n",
       "1006455           1683455144   752255117232054276       1\n",
       "1006456           1683455144            752845778       1\n",
       "1006457           1683455144   756947491787010048       1\n",
       "1006458   999962406003625984   999962406003625984       1\n",
       "\n",
       "[1006459 rows x 3 columns]"
      ]
     },
     "execution_count": 3,
     "metadata": {},
     "output_type": "execute_result"
    }
   ],
   "source": [
    "edgelist_df"
   ]
  },
  {
   "cell_type": "code",
   "execution_count": 4,
   "id": "397b08ef",
   "metadata": {},
   "outputs": [],
   "source": [
    "G = nx.from_pandas_edgelist(edgelist_df,\n",
    "                            source='source',\n",
    "                            target='retweeter',\n",
    "                            edge_attr='weight',\n",
    "                            create_using=nx.DiGraph)"
   ]
  },
  {
   "cell_type": "code",
   "execution_count": 5,
   "id": "06291fe9",
   "metadata": {},
   "outputs": [
    {
     "data": {
      "text/plain": [
       "2327"
      ]
     },
     "execution_count": 5,
     "metadata": {},
     "output_type": "execute_result"
    }
   ],
   "source": [
    "# Number of isolated directed subgraphs\n",
    "nx.number_weakly_connected_components(G)"
   ]
  },
  {
   "cell_type": "code",
   "execution_count": 6,
   "id": "6e387b21",
   "metadata": {},
   "outputs": [],
   "source": [
    "# Create sub-graph for each connected component\n",
    "S = [G.subgraph(c).copy() for c in nx.weakly_connected_components(G)]"
   ]
  },
  {
   "cell_type": "code",
   "execution_count": 7,
   "id": "0de6d35f",
   "metadata": {},
   "outputs": [],
   "source": [
    "# Score each connected component and rank by the number of nodes\n",
    "wcc_rank = [(s, s.number_of_nodes(), s.number_of_edges()) for s in S]\n",
    "wcc_rank.sort(key=lambda x: x[1], reverse=True)"
   ]
  },
  {
   "cell_type": "code",
   "execution_count": 8,
   "id": "ac9f0cc0",
   "metadata": {},
   "outputs": [
    {
     "data": {
      "text/plain": [
       "[(<networkx.classes.digraph.DiGraph at 0x16646c750>, 168684, 1002330),\n",
       " (<networkx.classes.digraph.DiGraph at 0x2842ea9d0>, 118, 132),\n",
       " (<networkx.classes.digraph.DiGraph at 0x2844a8490>, 114, 114),\n",
       " (<networkx.classes.digraph.DiGraph at 0x2844d5bd0>, 102, 102),\n",
       " (<networkx.classes.digraph.DiGraph at 0x2842386d0>, 46, 46)]"
      ]
     },
     "execution_count": 8,
     "metadata": {},
     "output_type": "execute_result"
    }
   ],
   "source": [
    "# Top 5\n",
    "wcc_rank[:5]"
   ]
  },
  {
   "cell_type": "markdown",
   "id": "a9f2e9a9",
   "metadata": {},
   "source": [
    "NOTE: component other than the giant one seems to have same number of nodes and edges. Investigate this behaviour."
   ]
  },
  {
   "cell_type": "code",
   "execution_count": 9,
   "id": "4e00b7bc",
   "metadata": {},
   "outputs": [],
   "source": [
    "# Biggest connected component (a.k.a. giant component)\n",
    "component_nx = wcc_rank[0][0]"
   ]
  },
  {
   "cell_type": "code",
   "execution_count": 10,
   "id": "9a318eab",
   "metadata": {},
   "outputs": [
    {
     "data": {
      "text/plain": [
       "-0.118353697247374"
      ]
     },
     "execution_count": 10,
     "metadata": {},
     "output_type": "execute_result"
    }
   ],
   "source": [
    "# Testing assortativity coefficient (pearson correlation between nodes degree)\n",
    "nx.degree_assortativity_coefficient(component_nx)"
   ]
  },
  {
   "cell_type": "code",
   "execution_count": 11,
   "id": "9be97af4",
   "metadata": {},
   "outputs": [],
   "source": [
    "# Create dataframe for connected component\n",
    "component_df = pd.DataFrame(component_nx.edges.data('weight', default=1), columns=('source', 'target', 'weight'))"
   ]
  },
  {
   "cell_type": "code",
   "execution_count": 12,
   "id": "3c540ae2",
   "metadata": {},
   "outputs": [],
   "source": [
    "# Anonymize data"
   ]
  },
  {
   "cell_type": "code",
   "execution_count": 13,
   "id": "f3ffee9b",
   "metadata": {},
   "outputs": [],
   "source": [
    "def anonymize_data_frame(df):\n",
    "    \n",
    "    anonymized_df = df.copy()\n",
    "    \n",
    "    # Create a real_id -> fake_id mapping\n",
    "    mapping_df = pd.concat([df['source'], df['target']]).unique()\n",
    "    mapping_df = pd.DataFrame({\"user_id\": mapping_df, \"id\": list(range(len(mapping_df)))})\n",
    "    mapping_df.set_index(\"user_id\", inplace=True)\n",
    "    \n",
    "    # Replace IDs in columns\n",
    "    anonymized_df['source'] = mapping_df.loc[df.source].values\n",
    "    anonymized_df['target'] = mapping_df.loc[df.target].values\n",
    "    \n",
    "    return mapping_df, anonymized_df"
   ]
  },
  {
   "cell_type": "code",
   "execution_count": 14,
   "id": "1bf9bbab",
   "metadata": {},
   "outputs": [],
   "source": [
    "mapping_df, anonymized_df = anonymize_data_frame(component_df)"
   ]
  },
  {
   "cell_type": "code",
   "execution_count": 15,
   "id": "9ba2106d",
   "metadata": {},
   "outputs": [
    {
     "data": {
      "text/html": [
       "<div>\n",
       "<style scoped>\n",
       "    .dataframe tbody tr th:only-of-type {\n",
       "        vertical-align: middle;\n",
       "    }\n",
       "\n",
       "    .dataframe tbody tr th {\n",
       "        vertical-align: top;\n",
       "    }\n",
       "\n",
       "    .dataframe thead th {\n",
       "        text-align: right;\n",
       "    }\n",
       "</style>\n",
       "<table border=\"1\" class=\"dataframe\">\n",
       "  <thead>\n",
       "    <tr style=\"text-align: right;\">\n",
       "      <th></th>\n",
       "      <th>source</th>\n",
       "      <th>target</th>\n",
       "      <th>weight</th>\n",
       "    </tr>\n",
       "  </thead>\n",
       "  <tbody>\n",
       "    <tr>\n",
       "      <th>0</th>\n",
       "      <td>1248341835770200064</td>\n",
       "      <td>1248341835770200064</td>\n",
       "      <td>1308</td>\n",
       "    </tr>\n",
       "    <tr>\n",
       "      <th>1</th>\n",
       "      <td>1248341835770200064</td>\n",
       "      <td>4160203479</td>\n",
       "      <td>28</td>\n",
       "    </tr>\n",
       "    <tr>\n",
       "      <th>2</th>\n",
       "      <td>1248341835770200064</td>\n",
       "      <td>1125440833099112448</td>\n",
       "      <td>22</td>\n",
       "    </tr>\n",
       "    <tr>\n",
       "      <th>3</th>\n",
       "      <td>1248341835770200064</td>\n",
       "      <td>850324301450555392</td>\n",
       "      <td>21</td>\n",
       "    </tr>\n",
       "    <tr>\n",
       "      <th>4</th>\n",
       "      <td>1248341835770200064</td>\n",
       "      <td>742397759991480320</td>\n",
       "      <td>20</td>\n",
       "    </tr>\n",
       "    <tr>\n",
       "      <th>...</th>\n",
       "      <td>...</td>\n",
       "      <td>...</td>\n",
       "      <td>...</td>\n",
       "    </tr>\n",
       "    <tr>\n",
       "      <th>1002325</th>\n",
       "      <td>1685861604</td>\n",
       "      <td>2355256140</td>\n",
       "      <td>1</td>\n",
       "    </tr>\n",
       "    <tr>\n",
       "      <th>1002326</th>\n",
       "      <td>1685861604</td>\n",
       "      <td>2673130134</td>\n",
       "      <td>1</td>\n",
       "    </tr>\n",
       "    <tr>\n",
       "      <th>1002327</th>\n",
       "      <td>168586183</td>\n",
       "      <td>169109426</td>\n",
       "      <td>1</td>\n",
       "    </tr>\n",
       "    <tr>\n",
       "      <th>1002328</th>\n",
       "      <td>168586183</td>\n",
       "      <td>534732052</td>\n",
       "      <td>1</td>\n",
       "    </tr>\n",
       "    <tr>\n",
       "      <th>1002329</th>\n",
       "      <td>168586183</td>\n",
       "      <td>962673934335447042</td>\n",
       "      <td>1</td>\n",
       "    </tr>\n",
       "  </tbody>\n",
       "</table>\n",
       "<p>1002330 rows × 3 columns</p>\n",
       "</div>"
      ],
      "text/plain": [
       "                      source               target  weight\n",
       "0        1248341835770200064  1248341835770200064    1308\n",
       "1        1248341835770200064           4160203479      28\n",
       "2        1248341835770200064  1125440833099112448      22\n",
       "3        1248341835770200064   850324301450555392      21\n",
       "4        1248341835770200064   742397759991480320      20\n",
       "...                      ...                  ...     ...\n",
       "1002325           1685861604           2355256140       1\n",
       "1002326           1685861604           2673130134       1\n",
       "1002327            168586183            169109426       1\n",
       "1002328            168586183            534732052       1\n",
       "1002329            168586183   962673934335447042       1\n",
       "\n",
       "[1002330 rows x 3 columns]"
      ]
     },
     "execution_count": 15,
     "metadata": {},
     "output_type": "execute_result"
    }
   ],
   "source": [
    "component_df"
   ]
  },
  {
   "cell_type": "code",
   "execution_count": 16,
   "id": "df81c410",
   "metadata": {},
   "outputs": [
    {
     "data": {
      "text/html": [
       "<div>\n",
       "<style scoped>\n",
       "    .dataframe tbody tr th:only-of-type {\n",
       "        vertical-align: middle;\n",
       "    }\n",
       "\n",
       "    .dataframe tbody tr th {\n",
       "        vertical-align: top;\n",
       "    }\n",
       "\n",
       "    .dataframe thead th {\n",
       "        text-align: right;\n",
       "    }\n",
       "</style>\n",
       "<table border=\"1\" class=\"dataframe\">\n",
       "  <thead>\n",
       "    <tr style=\"text-align: right;\">\n",
       "      <th></th>\n",
       "      <th>source</th>\n",
       "      <th>target</th>\n",
       "      <th>weight</th>\n",
       "    </tr>\n",
       "  </thead>\n",
       "  <tbody>\n",
       "    <tr>\n",
       "      <th>0</th>\n",
       "      <td>0</td>\n",
       "      <td>0</td>\n",
       "      <td>1308</td>\n",
       "    </tr>\n",
       "    <tr>\n",
       "      <th>1</th>\n",
       "      <td>0</td>\n",
       "      <td>149</td>\n",
       "      <td>28</td>\n",
       "    </tr>\n",
       "    <tr>\n",
       "      <th>2</th>\n",
       "      <td>0</td>\n",
       "      <td>32365</td>\n",
       "      <td>22</td>\n",
       "    </tr>\n",
       "    <tr>\n",
       "      <th>3</th>\n",
       "      <td>0</td>\n",
       "      <td>32366</td>\n",
       "      <td>21</td>\n",
       "    </tr>\n",
       "    <tr>\n",
       "      <th>4</th>\n",
       "      <td>0</td>\n",
       "      <td>184</td>\n",
       "      <td>20</td>\n",
       "    </tr>\n",
       "    <tr>\n",
       "      <th>...</th>\n",
       "      <td>...</td>\n",
       "      <td>...</td>\n",
       "      <td>...</td>\n",
       "    </tr>\n",
       "    <tr>\n",
       "      <th>1002325</th>\n",
       "      <td>32363</td>\n",
       "      <td>35269</td>\n",
       "      <td>1</td>\n",
       "    </tr>\n",
       "    <tr>\n",
       "      <th>1002326</th>\n",
       "      <td>32363</td>\n",
       "      <td>40892</td>\n",
       "      <td>1</td>\n",
       "    </tr>\n",
       "    <tr>\n",
       "      <th>1002327</th>\n",
       "      <td>32364</td>\n",
       "      <td>84187</td>\n",
       "      <td>1</td>\n",
       "    </tr>\n",
       "    <tr>\n",
       "      <th>1002328</th>\n",
       "      <td>32364</td>\n",
       "      <td>168682</td>\n",
       "      <td>1</td>\n",
       "    </tr>\n",
       "    <tr>\n",
       "      <th>1002329</th>\n",
       "      <td>32364</td>\n",
       "      <td>168683</td>\n",
       "      <td>1</td>\n",
       "    </tr>\n",
       "  </tbody>\n",
       "</table>\n",
       "<p>1002330 rows × 3 columns</p>\n",
       "</div>"
      ],
      "text/plain": [
       "         source  target  weight\n",
       "0             0       0    1308\n",
       "1             0     149      28\n",
       "2             0   32365      22\n",
       "3             0   32366      21\n",
       "4             0     184      20\n",
       "...         ...     ...     ...\n",
       "1002325   32363   35269       1\n",
       "1002326   32363   40892       1\n",
       "1002327   32364   84187       1\n",
       "1002328   32364  168682       1\n",
       "1002329   32364  168683       1\n",
       "\n",
       "[1002330 rows x 3 columns]"
      ]
     },
     "execution_count": 16,
     "metadata": {},
     "output_type": "execute_result"
    }
   ],
   "source": [
    "anonymized_df"
   ]
  },
  {
   "cell_type": "code",
   "execution_count": 17,
   "id": "12497363",
   "metadata": {},
   "outputs": [],
   "source": [
    "# Save the connected component as csv\n",
    "anonymized_df.to_csv(\"edgelist_component.csv\", index=False)\n",
    "# Save the mapping for original id recovery\n",
    "mapping_df.to_csv(\"edgelist_user_mapping.csv\", index=False)"
   ]
  },
  {
   "cell_type": "code",
   "execution_count": null,
   "id": "41af2950",
   "metadata": {},
   "outputs": [],
   "source": []
  }
 ],
 "metadata": {
  "kernelspec": {
   "display_name": "Python 3 (ipykernel)",
   "language": "python",
   "name": "python3"
  },
  "language_info": {
   "codemirror_mode": {
    "name": "ipython",
    "version": 3
   },
   "file_extension": ".py",
   "mimetype": "text/x-python",
   "name": "python",
   "nbconvert_exporter": "python",
   "pygments_lexer": "ipython3",
   "version": "3.11.3"
  }
 },
 "nbformat": 4,
 "nbformat_minor": 5
}
