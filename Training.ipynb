{
 "cells": [
  {
   "cell_type": "code",
   "execution_count": null,
   "id": "51628920-7960-4471-a988-1f06cfc0087b",
   "metadata": {},
   "outputs": [],
   "source": [
    "import pandas as pd\n",
    "from datetime import timedelta\n",
    "from joblib import Parallel, delayed\n",
    "from tqdm.auto import tqdm\n",
    "import pickle\n",
    "import datetime\n",
    "import os\n",
    "## Project import #\n",
    "from tfib.evaluations import nDCG_loss\n",
    "from tfib.evaluations import network_dismantle\n",
    "from tfib.utils import make_lists_same_length\n",
    "from tfib.utils import plot_grid_search_heatmap\n",
    "from tfib.utils import plot_dismantling_graph\n",
    "from tfib.utils import datetime_to_float\n",
    "from tfib.utils import generate_splits\n",
    "from tfib.tfibengines import TFIBEngine"
   ]
  },
  {
   "cell_type": "code",
   "execution_count": null,
   "id": "bfa4d5b9-233e-4058-9b5c-194d1dc3ca34",
   "metadata": {},
   "outputs": [],
   "source": [
    "# SETTINGS #\n",
    "\n",
    "# Training\n",
    "DATASET_PATH = \"data/COVID19_2023_02_22_DATASET.csv\"\n",
    "TRAIN_SPLIT = 0.8 # Size rateo for training set\n",
    "VALID_SPLIT = 0.2 # Size rateo for validation set\n",
    "CREDIBILITY_THR = 39.0 # source > https://www.newsguardtech.com/ratings/rating-process-criteria/\n",
    "USE_ORIGINAL_RTT = True # Setting to False will use the Jacobson/Karels formula for estimation.\n",
    "NDCG_AT = 10 # Set the K for NDGC@K. If None the standard nDCG will be computed.\n",
    "\n",
    "# Execution\n",
    "PARALLELIZATION_ENABLED = True\n",
    "N_JOBS = os.cpu_count()"
   ]
  },
  {
   "cell_type": "markdown",
   "id": "e8c8cec4-781b-4cab-b448-3be472dcbe86",
   "metadata": {},
   "source": [
    "## Data Loading"
   ]
  },
  {
   "cell_type": "code",
   "execution_count": null,
   "id": "fec61ed1-8873-4e07-8a76-f90fdad60605",
   "metadata": {},
   "outputs": [],
   "source": [
    "dtype = {'tweet_id': str,\n",
    "         'user_id': str,\n",
    "         'retweeted_user_id': str,\n",
    "         'retweeted_status_id': str,\n",
    "         \"retweeeted_user_id\": str}\n",
    "\n",
    "covid_df = pd.read_csv(DATASET_PATH, parse_dates=[1], dtype=dtype)"
   ]
  },
  {
   "cell_type": "code",
   "execution_count": null,
   "id": "d390d262-ae84-4c74-a254-38b043faccab",
   "metadata": {},
   "outputs": [],
   "source": [
    "covid_df"
   ]
  },
  {
   "cell_type": "code",
   "execution_count": null,
   "id": "c0f58a6f-e85f-4cb0-9c4f-098d17ffe7eb",
   "metadata": {},
   "outputs": [],
   "source": [
    "data_df = covid_df[covid_df.retweeted_user_id != \"AUTHOR\"].sort_values(by=\"created_at\").reset_index(drop=True)\n",
    "data_df"
   ]
  },
  {
   "cell_type": "markdown",
   "id": "74d187e4-bb61-412a-80f9-4ee3108fcc40",
   "metadata": {},
   "source": [
    "## Datetime Format Conversion "
   ]
  },
  {
   "cell_type": "code",
   "execution_count": null,
   "id": "e83cffe9-8d45-4596-8017-d77993ca6630",
   "metadata": {},
   "outputs": [],
   "source": [
    "data_df = datetime_to_float(data_df, \"created_at\", time_unit=\"day\")"
   ]
  },
  {
   "cell_type": "code",
   "execution_count": null,
   "id": "bdb61dde-0fe3-4907-8aa1-395a5c5e31c4",
   "metadata": {},
   "outputs": [],
   "source": [
    "data_df"
   ]
  },
  {
   "cell_type": "markdown",
   "id": "bfdaeb9e-ec9c-4c5b-bdc2-8c59459289ef",
   "metadata": {},
   "source": [
    "## Train and Test Split"
   ]
  },
  {
   "cell_type": "code",
   "execution_count": null,
   "id": "b25607ee-84e9-4b1e-b2ec-effd4b5962e8",
   "metadata": {},
   "outputs": [],
   "source": [
    "# Splits\n",
    "cut_index = int(len(data_df)*TRAIN_SPLIT)\n",
    "train_set_df = data_df.iloc[:cut_index]\n",
    "test_set_df = data_df.iloc[cut_index:]"
   ]
  },
  {
   "cell_type": "code",
   "execution_count": null,
   "id": "059583f2-15f7-4f26-9c9a-2bdb2c3413f4",
   "metadata": {},
   "outputs": [],
   "source": [
    "train_set_df"
   ]
  },
  {
   "cell_type": "code",
   "execution_count": null,
   "id": "36a599f1-a9f6-4433-ae4d-1c342a5e0b1a",
   "metadata": {},
   "outputs": [],
   "source": [
    "test_set_df"
   ]
  },
  {
   "cell_type": "markdown",
   "id": "3a8f40e3-429c-4043-afc3-f1a3ba2e33f6",
   "metadata": {},
   "source": [
    "## Tuning and Validation Split"
   ]
  },
  {
   "cell_type": "markdown",
   "id": "adc003ac-2ed2-4fd8-8e87-b8be49f1cbb6",
   "metadata": {},
   "source": [
    "- The model will be trained repeatedly on a Tuning set == Training set - Validation set\n",
    "- The model will be evaluated each time on the same Validation set"
   ]
  },
  {
   "cell_type": "code",
   "execution_count": null,
   "id": "8a538af5-b583-47c9-84bf-001039baa66a",
   "metadata": {},
   "outputs": [],
   "source": [
    "# Split the train set in Tuning and Validation Set\n",
    "cut_index = int(len(train_set_df)*(1-VALID_SPLIT))\n",
    "tuning_set_df = train_set_df.iloc[:cut_index]\n",
    "valid_set_df = train_set_df.iloc[cut_index:]"
   ]
  },
  {
   "cell_type": "code",
   "execution_count": null,
   "id": "deb01552-9f45-48a4-9622-0e3afc7949da",
   "metadata": {},
   "outputs": [],
   "source": [
    "tuning_set_df"
   ]
  },
  {
   "cell_type": "code",
   "execution_count": null,
   "id": "05748c4a-79fe-452c-945c-f6761e8d4830",
   "metadata": {},
   "outputs": [],
   "source": [
    "valid_set_df"
   ]
  },
  {
   "cell_type": "code",
   "execution_count": null,
   "id": "4170fce9-6f27-46ae-a4ab-9d474a13474c",
   "metadata": {},
   "outputs": [],
   "source": [
    "# Prepare data for hyper-parameter tuning\n",
    "tuning_set = list(tuning_set_df.itertuples(index=False))"
   ]
  },
  {
   "cell_type": "code",
   "execution_count": null,
   "id": "2dd32eae-252b-42fc-8e32-84e4a3c55e2e",
   "metadata": {},
   "outputs": [],
   "source": [
    "# Validation ground truth loading\n",
    "from tfib.evaluations import get_retweet_network, get_optimal_ranking\n",
    "\n",
    "# Validation retweet network\n",
    "validation_retweets_network = get_retweet_network(\n",
    "    valid_set_df[valid_set_df.credibility_score <= CREDIBILITY_THR],\n",
    "    rt_UserID_col=\"retweeted_user_id\",\n",
    "    userID_col=\"user_id\",\n",
    "    rating_col=\"credibility_score\")\n",
    "\n",
    "# Validation optimal ranking\n",
    "validation_optimal_ranking = get_optimal_ranking(validation_retweets_network).set_index(\"node\")\n",
    "validation_optimal_ranking"
   ]
  },
  {
   "cell_type": "code",
   "execution_count": null,
   "id": "5debb451-e866-4f92-a504-9064899a5a58",
   "metadata": {},
   "outputs": [],
   "source": [
    "# Assign a combined single score to the ranking that keeps the order\n",
    "validation_optimal_ranking['combined'] = (\n",
    "    validation_optimal_ranking[\"outgoing_weight\"] +\n",
    "    validation_optimal_ranking[\"incoming_weight\"] / \n",
    "    (validation_optimal_ranking[\"incoming_weight\"].max() + 1))\n",
    "\n",
    "validation_optimal_ranking"
   ]
  },
  {
   "cell_type": "code",
   "execution_count": null,
   "id": "d4f83b4b-8fb4-4de9-894d-1d035b7a0423",
   "metadata": {},
   "outputs": [],
   "source": [
    "# Create the ranking in the dict format\n",
    "validation_optimal_ranking = validation_optimal_ranking.to_dict()[\"combined\"]\n",
    "list(validation_optimal_ranking.items())[:10]"
   ]
  },
  {
   "cell_type": "markdown",
   "id": "48836a78-0102-4403-ae19-aebf4d4b0591",
   "metadata": {},
   "source": [
    "## Hyperparameters Tuning (Grid Search)"
   ]
  },
  {
   "cell_type": "code",
   "execution_count": null,
   "id": "f18eada4-636a-4b55-b5c8-2fe17382e656",
   "metadata": {},
   "outputs": [],
   "source": [
    "# Alpha values to explore (importance of the past activity against the last)\n",
    "alphas = [0.1, 0.2, 0.3, 0.4, 0.5, 0.6, 0.7, 0.8, 0.9, 1.0]\n",
    "# alphas = [0.5, 0.55, 0.6, 0.65, 0.7, 0.75, 0.8, 0.85, 0.9, 0.95, 1.0]\n",
    "\n",
    "# Beta values to explore (Activity deviation sensitivity)\n",
    "betas = [0.1, 0.2, 0.3, 0.4, 0.5, 0.6, 0.7, 0.8, 0.9, 1.0]\n",
    "\n",
    "# Gamma values to explore\n",
    "gammas = [4.0, 3.0, 2.0, 1.0]\n",
    "\n",
    "# Delta values to explore (Days interval)\n",
    "max_days = int(tuning_set_df.created_at.iloc[-1])\n",
    "deltas = generate_splits(max_days, 1.5)\n",
    "\n",
    "# if standard method is used\n",
    "if USE_ORIGINAL_RTT:\n",
    "    # disable beta and gamma\n",
    "    betas, gammas = [-1], [-1]\n",
    "\n",
    "# Build hyperparameters configuration set\n",
    "hparams_set = []\n",
    "for a in alphas:    \n",
    "    for b in betas:\n",
    "        for g in gammas:\n",
    "            for d in deltas:\n",
    "                hparams_set.append((a, b, g, d))\n",
    "\n",
    "# Results storage\n",
    "evaluated_hparams = []\n",
    "\n",
    "# Total configurations to test\n",
    "print(f\"Testing {len(hparams_set)} configurations...\")\n",
    "\n",
    "# Kernel function\n",
    "def test_config(alpha, beta, gamma, delta):\n",
    "\n",
    "    # create a new model instance with params\n",
    "    engine = TFIBEngine(\n",
    "        reshare_key=lambda x: x[0],\n",
    "        author_key=lambda x: x[2],\n",
    "        original_post_key=lambda x: x[3],\n",
    "        original_author_key=lambda x: x[4],\n",
    "        timestamp_key=lambda x: x[1],\n",
    "        flag_key=lambda x: x[5],\n",
    "        credibility_threshold = CREDIBILITY_THR,\n",
    "        alpha=alpha,\n",
    "        beta=beta,\n",
    "        gamma=gamma,\n",
    "        delta=delta,\n",
    "        use_original_rtt=USE_ORIGINAL_RTT,\n",
    "        enable_repost_count_scaling=False)\n",
    "\n",
    "    # fit the model\n",
    "    engine.time_fit(tuning_set)\n",
    "\n",
    "    # get the rank\n",
    "    ranking = engine.get_rank()\n",
    "    \n",
    "    # ranking evaluation\n",
    "    loss = nDCG_loss(validation_optimal_ranking, ranking, k=NDCG_AT)\n",
    "\n",
    "    return (alpha, beta, gamma, delta, loss)\n",
    "\n",
    "\n",
    "# run grid search\n",
    "if PARALLELIZATION_ENABLED:\n",
    "    # run in parallel...\n",
    "    joblib_parallelize = Parallel(n_jobs=N_JOBS, prefer=\"processes\", verbose=10)\n",
    "    evaluated_hparams = joblib_parallelize(delayed(test_config)(*hparams) for hparams in hparams_set)\n",
    "else:\n",
    "    # ...otherwise run serialized\n",
    "    for hparams in tqdm(hparams_set):\n",
    "        evaluated_hparams.append(test_config(*hparams))"
   ]
  },
  {
   "cell_type": "code",
   "execution_count": null,
   "id": "f68ba197-c148-4e75-b4b9-bd65b45eb1f8",
   "metadata": {},
   "outputs": [],
   "source": [
    "# Create a dataframe for evaluated combinations\n",
    "evaluated_hparams_df = pd.DataFrame(evaluated_hparams,\n",
    "                                    columns=[\"Alpha\", \"Beta\", \"Gamma\", \"Delta\", \"Loss\"]).sort_values(by=[\"Loss\", \"Delta\"])\n",
    "\n",
    "evaluated_hparams_df.reset_index(inplace=True, drop=True)\n",
    "\n",
    "evaluated_hparams_df.head(10)"
   ]
  },
  {
   "cell_type": "markdown",
   "id": "7a4005d5-7928-43a6-84a9-10724992f760",
   "metadata": {},
   "source": [
    "## Grid Search Results Visualization"
   ]
  },
  {
   "cell_type": "code",
   "execution_count": null,
   "id": "b377acfa-bcc3-468e-94f0-bacaacbc1626",
   "metadata": {},
   "outputs": [],
   "source": [
    "# Take the best values\n",
    "v_alpha, v_beta, v_gamma, v_delta = list(evaluated_hparams_df.iloc[0].values)[:-1]\n",
    "\n",
    "# Create a new model instance with params\n",
    "valid_engine = TFIBEngine(\n",
    "    reshare_key=lambda x: x[0],\n",
    "    author_key=lambda x: x[2],\n",
    "    original_post_key=lambda x: x[3],\n",
    "    original_author_key=lambda x: x[4],\n",
    "    timestamp_key=lambda x: x[1],\n",
    "    flag_key=lambda x: x[5],\n",
    "    credibility_threshold = CREDIBILITY_THR,\n",
    "    alpha=v_alpha,\n",
    "    beta=v_beta,\n",
    "    gamma=v_gamma,\n",
    "    delta=v_delta,\n",
    "    use_original_rtt=USE_ORIGINAL_RTT,\n",
    "    enable_repost_count_scaling=False)\n",
    "\n",
    "valid_engine.time_fit(tuning_set)\n",
    "v_ranking = valid_engine.get_rank()"
   ]
  },
  {
   "cell_type": "code",
   "execution_count": null,
   "id": "a0b35b39-ca73-470f-b9aa-d12a7a5541f6",
   "metadata": {},
   "outputs": [],
   "source": [
    "# Generate the dismantling tracks\n",
    "v_dismantled_true = network_dismantle(validation_retweets_network, validation_optimal_ranking)\n",
    "v_dismantled_test = network_dismantle(validation_retweets_network, v_ranking)\n",
    "\n",
    "# Build the validation dismantling dataframe with results\n",
    "v_dismantled_df = {}\n",
    "v_dismantled_df[\"Validation optimal\"] = [x[1] for x in v_dismantled_true]\n",
    "v_dismantled_df[\"Validation test\"] = [x[1] for x in v_dismantled_test]\n",
    "make_lists_same_length(v_dismantled_df)\n",
    "v_dismantled_df = pd.DataFrame.from_dict(v_dismantled_df)"
   ]
  },
  {
   "cell_type": "code",
   "execution_count": null,
   "id": "271e3552-24a6-47f6-8e6e-e29b600ccbd7",
   "metadata": {},
   "outputs": [],
   "source": [
    "plot_dismantling_graph(v_dismantled_df, [\"darkcyan\", \"darkblue\"], [\"*-\", \"o-\"])"
   ]
  },
  {
   "cell_type": "markdown",
   "id": "4f498fc7-be5b-4bea-9228-0a1a94625f0d",
   "metadata": {},
   "source": [
    "### Alpha vs Delta"
   ]
  },
  {
   "cell_type": "code",
   "execution_count": null,
   "id": "f6ee9112-83b3-4d09-8056-7c5ade48b5e7",
   "metadata": {},
   "outputs": [],
   "source": [
    "# Group by 'Alpha' and 'Delta', then find the row(s) with max 'Loss' in each group\n",
    "min_loss_rows = evaluated_hparams_df.loc[evaluated_hparams_df.groupby(['Alpha', 'Delta'])['Loss'].idxmin()]\n",
    "\n",
    "# Pivot the DataFrame\n",
    "grid_search_df = min_loss_rows.pivot(index='Alpha', columns='Delta', values='Loss')\n",
    "\n",
    "# Reorder rows and columns in ascending order\n",
    "grid_search_df.sort_index(axis=0, inplace=True, ascending=False)\n",
    "grid_search_df.sort_index(axis=1, inplace=True)"
   ]
  },
  {
   "cell_type": "code",
   "execution_count": null,
   "id": "1b8d84a7-e11c-4765-8def-813ba66c69a2",
   "metadata": {},
   "outputs": [],
   "source": [
    "grid_search_df"
   ]
  },
  {
   "cell_type": "code",
   "execution_count": null,
   "id": "41ed095d-21e3-48e7-aa10-e4de005d657c",
   "metadata": {},
   "outputs": [],
   "source": [
    "plot_grid_search_heatmap(grid_search_df,\n",
    "                         annot_size=9,\n",
    "                         palette=\"magma\",\n",
    "                         color_bar_name=\"nDCG Loss\",\n",
    "                         color_bar_shrink=0.6,\n",
    "                         plot_title=\"Grid Search\")"
   ]
  },
  {
   "cell_type": "markdown",
   "id": "6b525354-8198-45d3-8064-d13ed1b8dc5f",
   "metadata": {},
   "source": [
    "### Setting Hyperparameters for Training Phase"
   ]
  },
  {
   "cell_type": "code",
   "execution_count": null,
   "id": "8aefeced-d28f-4b12-aa00-96140288e923",
   "metadata": {},
   "outputs": [],
   "source": [
    "# Show best and worse hyperparameters found\n",
    "best_hparams = list(evaluated_hparams_df.iloc[0].values)\n",
    "worse_hparams = list(evaluated_hparams_df.iloc[-1].values)\n",
    "print(f\"Best hyperparameters: α = {best_hparams[0]}, β = {best_hparams[1]}, γ = {best_hparams[2]}, δ = {best_hparams[3]}\")\n",
    "print(f\"Worse hyperparameters: α = {worse_hparams[0]}, β = {worse_hparams[1]}, γ = {worse_hparams[2]}, δ = {worse_hparams[3]}\")"
   ]
  },
  {
   "cell_type": "code",
   "execution_count": null,
   "id": "06b0204e-14e2-45ac-9be7-e54846312d39",
   "metadata": {},
   "outputs": [],
   "source": [
    "# Set the best and the worse hyperparameters for global usage\n",
    "BEST_ALPHA, BEST_BETA, BEST_GAMMA, BEST_DELTA = best_hparams[:-1]\n",
    "WORSE_ALPHA, WORSE_BETA, WORSE_GAMMA, WORSE_DELTA = worse_hparams[:-1]"
   ]
  },
  {
   "cell_type": "markdown",
   "id": "fc0d448c-493f-4ac2-a9a7-51c320af6ad2",
   "metadata": {},
   "source": [
    "## Training phase"
   ]
  },
  {
   "cell_type": "code",
   "execution_count": null,
   "id": "7e2f865f-8180-47e3-9462-5de383ef090b",
   "metadata": {},
   "outputs": [],
   "source": [
    "# Baseline (FIB-index)\n",
    "fib_engine_baseline = TFIBEngine(\n",
    "    reshare_key=lambda x: x[0],\n",
    "    author_key=lambda x: x[2],\n",
    "    original_post_key=lambda x: x[3],\n",
    "    original_author_key=lambda x: x[4],\n",
    "    timestamp_key=lambda x: x[1],\n",
    "    flag_key=lambda x: x[5],\n",
    "    credibility_threshold = CREDIBILITY_THR,\n",
    "    alpha=BEST_ALPHA,\n",
    "    beta=BEST_BETA,\n",
    "    gamma=BEST_GAMMA,\n",
    "    delta=BEST_DELTA,\n",
    "    use_original_rtt=USE_ORIGINAL_RTT,\n",
    "    enable_repost_count_scaling=False)\n",
    "\n",
    "# Best hyperparameters (TFIB-index)\n",
    "tfib_engine_best = TFIBEngine(\n",
    "    reshare_key=lambda x: x[0],\n",
    "    author_key=lambda x: x[2],\n",
    "    original_post_key=lambda x: x[3],\n",
    "    original_author_key=lambda x: x[4],\n",
    "    timestamp_key=lambda x: x[1],\n",
    "    flag_key=lambda x: x[5],\n",
    "    credibility_threshold = CREDIBILITY_THR,\n",
    "    alpha=BEST_ALPHA,\n",
    "    beta=BEST_BETA,\n",
    "    gamma=BEST_GAMMA,\n",
    "    delta=BEST_DELTA,\n",
    "    use_original_rtt=USE_ORIGINAL_RTT,\n",
    "    enable_repost_count_scaling=False)\n",
    "\n",
    "# Worse hyperparameters (TFIB-index)\n",
    "tfib_engine_worse = TFIBEngine(\n",
    "    reshare_key=lambda x: x[0],\n",
    "    author_key=lambda x: x[2],\n",
    "    original_post_key=lambda x: x[3],\n",
    "    original_author_key=lambda x: x[4],\n",
    "    timestamp_key=lambda x: x[1],\n",
    "    flag_key=lambda x: x[5],\n",
    "    credibility_threshold = CREDIBILITY_THR,\n",
    "    alpha=WORSE_ALPHA,\n",
    "    beta=WORSE_BETA,\n",
    "    gamma=WORSE_GAMMA,\n",
    "    delta=WORSE_DELTA,\n",
    "    use_original_rtt=USE_ORIGINAL_RTT,\n",
    "    enable_repost_count_scaling=False)\n",
    "\n",
    "# Create the data for model training\n",
    "train_set_tuplelist = list(train_set_df.itertuples(index=False))\n",
    "\n",
    "# Train both models\n",
    "fib_engine_baseline.fit(train_set_tuplelist) # Baseline\n",
    "tfib_engine_best.time_fit(train_set_tuplelist) # Proposed (Best settings)\n",
    "tfib_engine_worse.time_fit(train_set_tuplelist) # Proposed (Worse settings)"
   ]
  },
  {
   "cell_type": "code",
   "execution_count": null,
   "id": "785171b3-8700-4321-a35a-a15ffb08e8d2",
   "metadata": {},
   "outputs": [],
   "source": [
    "# Show FIB-i Top-10 (Baseline)\n",
    "list(fib_engine_baseline.get_rank().items())[:10]"
   ]
  },
  {
   "cell_type": "code",
   "execution_count": null,
   "id": "d99d198a-5c37-4cb9-8720-573e0d01ae56",
   "metadata": {},
   "outputs": [],
   "source": [
    "# Show TFIB-i Top-10 (Proposed best)\n",
    "list(tfib_engine_best.get_rank().items())[:10]"
   ]
  },
  {
   "cell_type": "code",
   "execution_count": null,
   "id": "c54d1536-9b84-40ff-9fc8-73d431dabde3",
   "metadata": {},
   "outputs": [],
   "source": [
    "# Show TFIB-i Top-10 (Proposed worse)\n",
    "list(tfib_engine_worse.get_rank().items())[:10]"
   ]
  },
  {
   "cell_type": "markdown",
   "id": "e11e8dab-bf1d-45a3-a29f-35505e6b6c83",
   "metadata": {},
   "source": [
    "### Build the Test Ground Truth Ranking"
   ]
  },
  {
   "cell_type": "code",
   "execution_count": null,
   "id": "016e268c-3d2f-4cbf-85a8-b135565447a9",
   "metadata": {},
   "outputs": [],
   "source": [
    "# Build retweet networks from test set (low credibility retweets only)\n",
    "test_retweets_network = get_retweet_network(\n",
    "    test_set_df[test_set_df.credibility_score <= CREDIBILITY_THR],\n",
    "    rt_UserID_col=\"retweeted_user_id\",\n",
    "    userID_col=\"user_id\",\n",
    "    rating_col=\"credibility_score\")\n",
    "\n",
    "# Raw optimal ranking\n",
    "test_optimal_ranking = get_optimal_ranking(test_retweets_network).set_index(\"node\")\n",
    "\n",
    "# Conbine the scores to get a single score that keep the ordering\n",
    "test_optimal_ranking['combined'] = (\n",
    "    test_optimal_ranking[\"outgoing_weight\"] +\n",
    "    test_optimal_ranking[\"incoming_weight\"] / \n",
    "    (test_optimal_ranking[\"incoming_weight\"].max() + 1))\n",
    "\n",
    "# Get the optimal ranking as a dict (ground truth)\n",
    "test_optimal_ranking = test_optimal_ranking.to_dict()[\"combined\"]"
   ]
  },
  {
   "cell_type": "code",
   "execution_count": null,
   "id": "26b25df0-c6a8-461a-a909-5407040d74fc",
   "metadata": {},
   "outputs": [],
   "source": [
    "# Show optimal ranking Top-10\n",
    "list(test_optimal_ranking.items())[:10]"
   ]
  },
  {
   "cell_type": "markdown",
   "id": "0c1501c8-44bb-4928-8c24-0b9e74f65c1c",
   "metadata": {},
   "source": [
    "## Test Loss"
   ]
  },
  {
   "cell_type": "code",
   "execution_count": null,
   "id": "03accc7a-b289-4eed-9ceb-7c44bc29267f",
   "metadata": {},
   "outputs": [],
   "source": [
    "# Evaluate the loss with the test set\n",
    "FIB_loss_baseline = nDCG_loss(test_optimal_ranking, fib_engine_baseline.get_rank(), k=NDCG_AT)\n",
    "TFIB_loss_best = nDCG_loss(test_optimal_ranking, tfib_engine_best.get_rank(), k=NDCG_AT)\n",
    "TFIB_loss_worse = nDCG_loss(test_optimal_ranking, tfib_engine_worse.get_rank(), k=NDCG_AT)\n",
    "\n",
    "# Show results\n",
    "print(f\"FIB-i Ranking Loss (Baseline): {FIB_loss_baseline}\")\n",
    "print(f\"TFIB-i Ranking Loss (Best): {TFIB_loss_best}\")\n",
    "print(f\"TFIB-i Ranking Loss (Worse): {TFIB_loss_worse}\")"
   ]
  },
  {
   "cell_type": "markdown",
   "id": "d044556c-0d49-41d2-8953-5fdd5db76d39",
   "metadata": {},
   "source": [
    "## Results Dataframe"
   ]
  },
  {
   "cell_type": "code",
   "execution_count": null,
   "id": "5af18a9e-7439-488e-91ed-3ff3410f3150",
   "metadata": {},
   "outputs": [],
   "source": [
    "# Build the results dictionary\n",
    "test_dismantle_fn = lambda x: network_dismantle(test_retweets_network, x)\n",
    "\n",
    "results_dict = {\n",
    "    \"FIB-i Baseline\": [pair[1] for pair in test_dismantle_fn(fib_engine_baseline.get_rank())],\n",
    "    f\"TFIB-i (α={BEST_ALPHA}, δ={int(BEST_DELTA)})\": [pair[1] for pair in test_dismantle_fn(tfib_engine_best.get_rank())],\n",
    "    f\"TFIB-1 (α={WORSE_ALPHA}, δ={int(WORSE_DELTA)})\": [pair[1] for pair in test_dismantle_fn(tfib_engine_worse.get_rank())],\n",
    "    \"Optimal\": [pair[1] for pair in test_dismantle_fn(test_optimal_ranking)]\n",
    "}\n",
    "\n",
    "# Adjust the tracks lenght by replicating the last value\n",
    "make_lists_same_length(results_dict)"
   ]
  },
  {
   "cell_type": "code",
   "execution_count": null,
   "id": "7df077d8-8aaa-4ea6-8a7e-44bb2f018e74",
   "metadata": {},
   "outputs": [],
   "source": [
    "# Convert to dataframe\n",
    "results_df = pd.DataFrame(results_dict)\n",
    "results_df.head(10)"
   ]
  },
  {
   "cell_type": "markdown",
   "id": "33511fae-0f91-4acf-a0b9-ffa4c592edac",
   "metadata": {},
   "source": [
    "## Hyperparameters Comparison"
   ]
  },
  {
   "cell_type": "code",
   "execution_count": null,
   "id": "3bf09ada-421c-416b-8743-0d4e4ca5b999",
   "metadata": {},
   "outputs": [],
   "source": [
    "# Set up the plot\n",
    "colors = [\"darkorange\", \"green\", \"darkred\", \"darkcyan\"]\n",
    "styles = [\"v-\", \"o-\", \"x-\" , \"*-\"]\n",
    "\n",
    "# Plot\n",
    "plot_dismantling_graph(results_df, colors, styles)"
   ]
  },
  {
   "cell_type": "markdown",
   "id": "421d8178-6965-46f1-96d4-5f4097c69d24",
   "metadata": {},
   "source": [
    "## Saving Results"
   ]
  },
  {
   "cell_type": "code",
   "execution_count": null,
   "id": "5208db86-a975-472c-aa94-dd5d489b6358",
   "metadata": {},
   "outputs": [],
   "source": [
    "# Your dictionary\n",
    "training_results = {\"Alpha\": BEST_ALPHA,\n",
    "                    \"Beta\": BEST_BETA,\n",
    "                    \"Gamma\": BEST_GAMMA,\n",
    "                    \"Delta\": BEST_DELTA,\n",
    "                    \"Dataset\": DATASET_PATH,\n",
    "                    \"train_split\": TRAIN_SPLIT,\n",
    "                    \"valid_split\": VALID_SPLIT,\n",
    "                    \"credibility_threshold\": CREDIBILITY_THR,\n",
    "                    \"original_RTT\": USE_ORIGINAL_RTT,\n",
    "                    \"nDCG@\": NDCG_AT,\n",
    "                    \"Ranking\": tfib_engine_best.get_rank()}\n",
    "\n",
    "# Get current timestamp\n",
    "current_timestamp = datetime.datetime.now().strftime(\"%Y%m%d%H%M%S\")\n",
    "\n",
    "# Specify the file path\n",
    "file_path = f\"data/training_results_{current_timestamp}.pickle\"\n",
    "\n",
    "# Save the dictionary to disk\n",
    "with open(file_path, 'wb') as f:\n",
    "    pickle.dump(training_results, f)"
   ]
  },
  {
   "cell_type": "markdown",
   "id": "a250c4ca-5a04-418e-8e99-14be7a272855",
   "metadata": {},
   "source": [
    "### Results Re-Load Check"
   ]
  },
  {
   "cell_type": "code",
   "execution_count": null,
   "id": "bff2b7cd-d806-49da-9b48-4e6a62da9273",
   "metadata": {},
   "outputs": [],
   "source": [
    "# Load the dictionary from disk\n",
    "with open(file_path, 'rb') as f:\n",
    "    loaded_results = pickle.load(f)\n",
    "\n",
    "import pprint\n",
    "\n",
    "pprint.pprint(loaded_results, depth=1)"
   ]
  },
  {
   "cell_type": "code",
   "execution_count": null,
   "id": "1cf8c7b0-26cc-4b6f-8ed4-fbb4ec9a23f8",
   "metadata": {},
   "outputs": [],
   "source": []
  }
 ],
 "metadata": {
  "kernelspec": {
   "display_name": "Python 3 (ipykernel)",
   "language": "python",
   "name": "python3"
  },
  "language_info": {
   "codemirror_mode": {
    "name": "ipython",
    "version": 3
   },
   "file_extension": ".py",
   "mimetype": "text/x-python",
   "name": "python",
   "nbconvert_exporter": "python",
   "pygments_lexer": "ipython3",
   "version": "3.11.6"
  }
 },
 "nbformat": 4,
 "nbformat_minor": 5
}
