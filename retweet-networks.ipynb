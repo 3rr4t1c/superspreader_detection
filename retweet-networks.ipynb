{
 "cells": [
  {
   "cell_type": "code",
   "execution_count": 1,
   "id": "f63d009f",
   "metadata": {},
   "outputs": [],
   "source": [
    "import pandas as pd"
   ]
  },
  {
   "cell_type": "code",
   "execution_count": 2,
   "id": "1c1448f0",
   "metadata": {},
   "outputs": [],
   "source": [
    "LOW_CREDIBILITY_THR = 45.0"
   ]
  },
  {
   "cell_type": "code",
   "execution_count": 3,
   "id": "5c19b474",
   "metadata": {},
   "outputs": [],
   "source": [
    "dtype = {'tweet_id': str,\n",
    "         'user_id': str,\n",
    "         'retweeted_user_id': str,\n",
    "         'retweeted_status_id': str}\n",
    "\n",
    "observation_df = pd.read_csv(\"data/observation_retweets.csv\", parse_dates=[1], dtype=dtype)\n",
    "evaluation_df = pd.read_csv(\"data/evaluation_retweets.csv\", parse_dates=[1], dtype=dtype)"
   ]
  },
  {
   "cell_type": "code",
   "execution_count": 4,
   "id": "df76976f",
   "metadata": {},
   "outputs": [
    {
     "data": {
      "text/html": [
       "<div>\n",
       "<style scoped>\n",
       "    .dataframe tbody tr th:only-of-type {\n",
       "        vertical-align: middle;\n",
       "    }\n",
       "\n",
       "    .dataframe tbody tr th {\n",
       "        vertical-align: top;\n",
       "    }\n",
       "\n",
       "    .dataframe thead th {\n",
       "        text-align: right;\n",
       "    }\n",
       "</style>\n",
       "<table border=\"1\" class=\"dataframe\">\n",
       "  <thead>\n",
       "    <tr style=\"text-align: right;\">\n",
       "      <th></th>\n",
       "      <th>tweet_id</th>\n",
       "      <th>created_at</th>\n",
       "      <th>user_id</th>\n",
       "      <th>retweeted_user_id</th>\n",
       "      <th>retweeted_status_id</th>\n",
       "      <th>retweet_count</th>\n",
       "      <th>likes_count</th>\n",
       "      <th>retweeted_text</th>\n",
       "      <th>root_domains</th>\n",
       "      <th>newsguard_rating</th>\n",
       "    </tr>\n",
       "  </thead>\n",
       "  <tbody>\n",
       "    <tr>\n",
       "      <th>0</th>\n",
       "      <td>1340468299025551360</td>\n",
       "      <td>2020-12-20 01:25:21+00:00</td>\n",
       "      <td>497188910</td>\n",
       "      <td>1017807360075665408</td>\n",
       "      <td>1340325850378592257</td>\n",
       "      <td>4</td>\n",
       "      <td>0</td>\n",
       "      <td>@GagliardoneS @amnesia96225614 https://t.co/L3...</td>\n",
       "      <td>affaritaliani.it</td>\n",
       "      <td>64.5</td>\n",
       "    </tr>\n",
       "    <tr>\n",
       "      <th>1</th>\n",
       "      <td>1340468728534884354</td>\n",
       "      <td>2020-12-20 01:27:04+00:00</td>\n",
       "      <td>924336025387913221</td>\n",
       "      <td>NaN</td>\n",
       "      <td>NaN</td>\n",
       "      <td>0</td>\n",
       "      <td>0</td>\n",
       "      <td>NaN</td>\n",
       "      <td>lastampa.it</td>\n",
       "      <td>95.0</td>\n",
       "    </tr>\n",
       "    <tr>\n",
       "      <th>2</th>\n",
       "      <td>1340473042129080320</td>\n",
       "      <td>2020-12-20 01:44:12+00:00</td>\n",
       "      <td>47148805</td>\n",
       "      <td>NaN</td>\n",
       "      <td>NaN</td>\n",
       "      <td>0</td>\n",
       "      <td>0</td>\n",
       "      <td>NaN</td>\n",
       "      <td>nytimes.com</td>\n",
       "      <td>100.0</td>\n",
       "    </tr>\n",
       "    <tr>\n",
       "      <th>3</th>\n",
       "      <td>1340474125656190978</td>\n",
       "      <td>2020-12-20 01:48:31+00:00</td>\n",
       "      <td>1022891525242593280</td>\n",
       "      <td>NaN</td>\n",
       "      <td>NaN</td>\n",
       "      <td>1</td>\n",
       "      <td>3</td>\n",
       "      <td>NaN</td>\n",
       "      <td>imolaoggi.it</td>\n",
       "      <td>5.0</td>\n",
       "    </tr>\n",
       "    <tr>\n",
       "      <th>4</th>\n",
       "      <td>1340477947627581440</td>\n",
       "      <td>2020-12-20 02:03:42+00:00</td>\n",
       "      <td>908206586</td>\n",
       "      <td>NaN</td>\n",
       "      <td>NaN</td>\n",
       "      <td>0</td>\n",
       "      <td>0</td>\n",
       "      <td>NaN</td>\n",
       "      <td>repubblica.it tweetedtimes.com</td>\n",
       "      <td>95.0</td>\n",
       "    </tr>\n",
       "    <tr>\n",
       "      <th>...</th>\n",
       "      <td>...</td>\n",
       "      <td>...</td>\n",
       "      <td>...</td>\n",
       "      <td>...</td>\n",
       "      <td>...</td>\n",
       "      <td>...</td>\n",
       "      <td>...</td>\n",
       "      <td>...</td>\n",
       "      <td>...</td>\n",
       "      <td>...</td>\n",
       "    </tr>\n",
       "    <tr>\n",
       "      <th>164525</th>\n",
       "      <td>1366174375318274048</td>\n",
       "      <td>2021-02-28 23:52:08+00:00</td>\n",
       "      <td>2647427506</td>\n",
       "      <td>454423746</td>\n",
       "      <td>1366062410277208065</td>\n",
       "      <td>0</td>\n",
       "      <td>0</td>\n",
       "      <td>Il \"percorso preferenziale\" per i giornalisti ...</td>\n",
       "      <td>gonews.it</td>\n",
       "      <td>95.0</td>\n",
       "    </tr>\n",
       "    <tr>\n",
       "      <th>164526</th>\n",
       "      <td>1366174768962162691</td>\n",
       "      <td>2021-02-28 23:53:41+00:00</td>\n",
       "      <td>268452474</td>\n",
       "      <td>NaN</td>\n",
       "      <td>NaN</td>\n",
       "      <td>0</td>\n",
       "      <td>0</td>\n",
       "      <td>NaN</td>\n",
       "      <td>ilmessaggero.it</td>\n",
       "      <td>95.0</td>\n",
       "    </tr>\n",
       "    <tr>\n",
       "      <th>164527</th>\n",
       "      <td>1366175279174086659</td>\n",
       "      <td>2021-02-28 23:55:43+00:00</td>\n",
       "      <td>1262358617803587585</td>\n",
       "      <td>NaN</td>\n",
       "      <td>NaN</td>\n",
       "      <td>0</td>\n",
       "      <td>0</td>\n",
       "      <td>NaN</td>\n",
       "      <td>informazione.it</td>\n",
       "      <td>70.0</td>\n",
       "    </tr>\n",
       "    <tr>\n",
       "      <th>164528</th>\n",
       "      <td>1366175279635390466</td>\n",
       "      <td>2021-02-28 23:55:43+00:00</td>\n",
       "      <td>1262358617803587585</td>\n",
       "      <td>NaN</td>\n",
       "      <td>NaN</td>\n",
       "      <td>0</td>\n",
       "      <td>0</td>\n",
       "      <td>NaN</td>\n",
       "      <td>informazione.it</td>\n",
       "      <td>70.0</td>\n",
       "    </tr>\n",
       "    <tr>\n",
       "      <th>164529</th>\n",
       "      <td>1366175278674935808</td>\n",
       "      <td>2021-02-28 23:55:43+00:00</td>\n",
       "      <td>1262358617803587585</td>\n",
       "      <td>NaN</td>\n",
       "      <td>NaN</td>\n",
       "      <td>0</td>\n",
       "      <td>0</td>\n",
       "      <td>NaN</td>\n",
       "      <td>informazione.it</td>\n",
       "      <td>70.0</td>\n",
       "    </tr>\n",
       "  </tbody>\n",
       "</table>\n",
       "<p>164530 rows × 10 columns</p>\n",
       "</div>"
      ],
      "text/plain": [
       "                   tweet_id                created_at              user_id  \\\n",
       "0       1340468299025551360 2020-12-20 01:25:21+00:00            497188910   \n",
       "1       1340468728534884354 2020-12-20 01:27:04+00:00   924336025387913221   \n",
       "2       1340473042129080320 2020-12-20 01:44:12+00:00             47148805   \n",
       "3       1340474125656190978 2020-12-20 01:48:31+00:00  1022891525242593280   \n",
       "4       1340477947627581440 2020-12-20 02:03:42+00:00            908206586   \n",
       "...                     ...                       ...                  ...   \n",
       "164525  1366174375318274048 2021-02-28 23:52:08+00:00           2647427506   \n",
       "164526  1366174768962162691 2021-02-28 23:53:41+00:00            268452474   \n",
       "164527  1366175279174086659 2021-02-28 23:55:43+00:00  1262358617803587585   \n",
       "164528  1366175279635390466 2021-02-28 23:55:43+00:00  1262358617803587585   \n",
       "164529  1366175278674935808 2021-02-28 23:55:43+00:00  1262358617803587585   \n",
       "\n",
       "          retweeted_user_id  retweeted_status_id  retweet_count  likes_count  \\\n",
       "0       1017807360075665408  1340325850378592257              4            0   \n",
       "1                       NaN                  NaN              0            0   \n",
       "2                       NaN                  NaN              0            0   \n",
       "3                       NaN                  NaN              1            3   \n",
       "4                       NaN                  NaN              0            0   \n",
       "...                     ...                  ...            ...          ...   \n",
       "164525            454423746  1366062410277208065              0            0   \n",
       "164526                  NaN                  NaN              0            0   \n",
       "164527                  NaN                  NaN              0            0   \n",
       "164528                  NaN                  NaN              0            0   \n",
       "164529                  NaN                  NaN              0            0   \n",
       "\n",
       "                                           retweeted_text  \\\n",
       "0       @GagliardoneS @amnesia96225614 https://t.co/L3...   \n",
       "1                                                     NaN   \n",
       "2                                                     NaN   \n",
       "3                                                     NaN   \n",
       "4                                                     NaN   \n",
       "...                                                   ...   \n",
       "164525  Il \"percorso preferenziale\" per i giornalisti ...   \n",
       "164526                                                NaN   \n",
       "164527                                                NaN   \n",
       "164528                                                NaN   \n",
       "164529                                                NaN   \n",
       "\n",
       "                          root_domains  newsguard_rating  \n",
       "0                     affaritaliani.it              64.5  \n",
       "1                          lastampa.it              95.0  \n",
       "2                          nytimes.com             100.0  \n",
       "3                         imolaoggi.it               5.0  \n",
       "4       repubblica.it tweetedtimes.com              95.0  \n",
       "...                                ...               ...  \n",
       "164525                       gonews.it              95.0  \n",
       "164526                 ilmessaggero.it              95.0  \n",
       "164527                 informazione.it              70.0  \n",
       "164528                 informazione.it              70.0  \n",
       "164529                 informazione.it              70.0  \n",
       "\n",
       "[164530 rows x 10 columns]"
      ]
     },
     "execution_count": 4,
     "metadata": {},
     "output_type": "execute_result"
    }
   ],
   "source": [
    "observation_df"
   ]
  },
  {
   "cell_type": "code",
   "execution_count": 5,
   "id": "44f1b44a",
   "metadata": {},
   "outputs": [
    {
     "data": {
      "image/png": "[encoded data removed]",
      "text/plain": [
       "<Figure size 640x480 with 1 Axes>"
      ]
     },
     "metadata": {},
     "output_type": "display_data"
    }
   ],
   "source": [
    "observation_df.newsguard_rating.plot.hist();"
   ]
  },
  {
   "cell_type": "code",
   "execution_count": 6,
   "id": "9579f206",
   "metadata": {},
   "outputs": [
    {
     "data": {
      "text/plain": [
       "32263"
      ]
     },
     "execution_count": 6,
     "metadata": {},
     "output_type": "execute_result"
    }
   ],
   "source": [
    "len(observation_df[observation_df.newsguard_rating <= 45.0])"
   ]
  },
  {
   "cell_type": "code",
   "execution_count": 7,
   "id": "fa4d3240",
   "metadata": {},
   "outputs": [
    {
     "data": {
      "text/plain": [
       "212472"
      ]
     },
     "execution_count": 7,
     "metadata": {},
     "output_type": "execute_result"
    }
   ],
   "source": [
    "len(evaluation_df[evaluation_df.newsguard_rating <= 45.0])"
   ]
  },
  {
   "cell_type": "code",
   "execution_count": null,
   "id": "205ed573",
   "metadata": {},
   "outputs": [],
   "source": []
  },
  {
   "cell_type": "code",
   "execution_count": 8,
   "id": "6ed76961",
   "metadata": {},
   "outputs": [],
   "source": [
    "def get_retweet_network(retweets_df, low_cred_thr=None):\n",
    "    \n",
    "    features = [\"retweeted_user_id\", \"user_id\", \"newsguard_rating\"]\n",
    "    edge_list_df = retweets_df[features].copy()\n",
    "    \n",
    "    if low_cred_thr:\n",
    "        # Remove rows with no low credibility\n",
    "        low_credibility_index = edge_list_df[edge_list_df.newsguard_rating > LOW_CREDIBILITY_THR].index\n",
    "        edge_list_df.drop(low_credibility_index, inplace=True)\n",
    "    \n",
    "    edge_list_df = edge_list_df.groupby([\"retweeted_user_id\", \"user_id\"]).count()\n",
    "    edge_list_df.sort_values(by=\"newsguard_rating\", ascending=False, inplace=True)\n",
    "    edge_list_df.reset_index(inplace=True)\n",
    "    \n",
    "    edge_list_df.rename(columns = {\"retweeted_user_id\": \"source\",\n",
    "                                   \"user_id\": \"target\",\n",
    "                                   \"newsguard_rating\": \"weight\"}, inplace=True)\n",
    "    \n",
    "    return edge_list_df"
   ]
  },
  {
   "cell_type": "code",
   "execution_count": 9,
   "id": "96bde778",
   "metadata": {},
   "outputs": [],
   "source": [
    "observation_rt_net_df = get_retweet_network(observation_df, low_cred_thr=LOW_CREDIBILITY_THR)"
   ]
  },
  {
   "cell_type": "code",
   "execution_count": 10,
   "id": "d157626c",
   "metadata": {},
   "outputs": [],
   "source": [
    "evaluation_rt_net_df = get_retweet_network(evaluation_df, low_cred_thr=LOW_CREDIBILITY_THR)"
   ]
  },
  {
   "cell_type": "code",
   "execution_count": 11,
   "id": "eeca7afe",
   "metadata": {},
   "outputs": [],
   "source": [
    "# Saving the retweet networks\n",
    "observation_rt_net_df.to_csv(\"data/observation_retweet_network.csv\", index=False)\n",
    "evaluation_rt_net_df.to_csv(\"data/evaluation_retweet_network.csv\", index=False)"
   ]
  },
  {
   "cell_type": "code",
   "execution_count": 12,
   "id": "b925896f",
   "metadata": {},
   "outputs": [],
   "source": [
    "# Bulding a sample retweet network\n",
    "sample_rt_net = get_retweet_network(evaluation_df)"
   ]
  },
  {
   "cell_type": "code",
   "execution_count": 13,
   "id": "2873d3ff",
   "metadata": {},
   "outputs": [
    {
     "data": {
      "text/html": [
       "<div>\n",
       "<style scoped>\n",
       "    .dataframe tbody tr th:only-of-type {\n",
       "        vertical-align: middle;\n",
       "    }\n",
       "\n",
       "    .dataframe tbody tr th {\n",
       "        vertical-align: top;\n",
       "    }\n",
       "\n",
       "    .dataframe thead th {\n",
       "        text-align: right;\n",
       "    }\n",
       "</style>\n",
       "<table border=\"1\" class=\"dataframe\">\n",
       "  <thead>\n",
       "    <tr style=\"text-align: right;\">\n",
       "      <th></th>\n",
       "      <th>source</th>\n",
       "      <th>target</th>\n",
       "      <th>weight</th>\n",
       "    </tr>\n",
       "  </thead>\n",
       "  <tbody>\n",
       "    <tr>\n",
       "      <th>0</th>\n",
       "      <td>331617619</td>\n",
       "      <td>1084450777748459520</td>\n",
       "      <td>863</td>\n",
       "    </tr>\n",
       "    <tr>\n",
       "      <th>1</th>\n",
       "      <td>331617619</td>\n",
       "      <td>948578516982956035</td>\n",
       "      <td>378</td>\n",
       "    </tr>\n",
       "    <tr>\n",
       "      <th>2</th>\n",
       "      <td>331617619</td>\n",
       "      <td>1062583370</td>\n",
       "      <td>344</td>\n",
       "    </tr>\n",
       "    <tr>\n",
       "      <th>3</th>\n",
       "      <td>331617619</td>\n",
       "      <td>1156225273928527872</td>\n",
       "      <td>312</td>\n",
       "    </tr>\n",
       "    <tr>\n",
       "      <th>4</th>\n",
       "      <td>1683455144</td>\n",
       "      <td>1174780873075544069</td>\n",
       "      <td>261</td>\n",
       "    </tr>\n",
       "    <tr>\n",
       "      <th>...</th>\n",
       "      <td>...</td>\n",
       "      <td>...</td>\n",
       "      <td>...</td>\n",
       "    </tr>\n",
       "    <tr>\n",
       "      <th>182810</th>\n",
       "      <td>144210805</td>\n",
       "      <td>1040656665979305984</td>\n",
       "      <td>1</td>\n",
       "    </tr>\n",
       "    <tr>\n",
       "      <th>182811</th>\n",
       "      <td>144210805</td>\n",
       "      <td>10414102</td>\n",
       "      <td>1</td>\n",
       "    </tr>\n",
       "    <tr>\n",
       "      <th>182812</th>\n",
       "      <td>144210805</td>\n",
       "      <td>1056094116</td>\n",
       "      <td>1</td>\n",
       "    </tr>\n",
       "    <tr>\n",
       "      <th>182813</th>\n",
       "      <td>144210805</td>\n",
       "      <td>1067008310</td>\n",
       "      <td>1</td>\n",
       "    </tr>\n",
       "    <tr>\n",
       "      <th>182814</th>\n",
       "      <td>999759972060844037</td>\n",
       "      <td>2842808602</td>\n",
       "      <td>1</td>\n",
       "    </tr>\n",
       "  </tbody>\n",
       "</table>\n",
       "<p>182815 rows × 3 columns</p>\n",
       "</div>"
      ],
      "text/plain": [
       "                    source               target  weight\n",
       "0                331617619  1084450777748459520     863\n",
       "1                331617619   948578516982956035     378\n",
       "2                331617619           1062583370     344\n",
       "3                331617619  1156225273928527872     312\n",
       "4               1683455144  1174780873075544069     261\n",
       "...                    ...                  ...     ...\n",
       "182810           144210805  1040656665979305984       1\n",
       "182811           144210805             10414102       1\n",
       "182812           144210805           1056094116       1\n",
       "182813           144210805           1067008310       1\n",
       "182814  999759972060844037           2842808602       1\n",
       "\n",
       "[182815 rows x 3 columns]"
      ]
     },
     "execution_count": 13,
     "metadata": {},
     "output_type": "execute_result"
    }
   ],
   "source": [
    "sample_rt_net"
   ]
  },
  {
   "cell_type": "code",
   "execution_count": 14,
   "id": "679d7508",
   "metadata": {},
   "outputs": [],
   "source": [
    "import networkx as nx"
   ]
  },
  {
   "cell_type": "code",
   "execution_count": 15,
   "id": "9b81131e",
   "metadata": {},
   "outputs": [],
   "source": [
    "G = nx.from_pandas_edgelist(sample_rt_net,\n",
    "                            source='source',\n",
    "                            target='target',\n",
    "                            edge_attr='weight',\n",
    "                            create_using=nx.DiGraph)"
   ]
  },
  {
   "cell_type": "code",
   "execution_count": 16,
   "id": "d330833b",
   "metadata": {},
   "outputs": [
    {
     "data": {
      "text/plain": [
       "727"
      ]
     },
     "execution_count": 16,
     "metadata": {},
     "output_type": "execute_result"
    }
   ],
   "source": [
    "# Number of isolated directed subgraphs\n",
    "nx.number_weakly_connected_components(G)"
   ]
  },
  {
   "cell_type": "code",
   "execution_count": 17,
   "id": "58cfd370",
   "metadata": {},
   "outputs": [],
   "source": [
    "# Create sub-graph for each connected component\n",
    "S = [G.subgraph(c).copy() for c in nx.weakly_connected_components(G)]"
   ]
  },
  {
   "cell_type": "code",
   "execution_count": 18,
   "id": "1a6a3b92",
   "metadata": {},
   "outputs": [],
   "source": [
    "# Score each connected component and rank by the number of nodes\n",
    "wcc_rank = [(s, s.number_of_nodes(), s.number_of_edges()) for s in S]\n",
    "wcc_rank.sort(key=lambda x: x[1], reverse=True)"
   ]
  },
  {
   "cell_type": "code",
   "execution_count": 19,
   "id": "10cb876b",
   "metadata": {},
   "outputs": [
    {
     "data": {
      "text/plain": [
       "[(<networkx.classes.digraph.DiGraph at 0x158d1b390>, 42186, 181480),\n",
       " (<networkx.classes.digraph.DiGraph at 0x161087110>, 106, 106),\n",
       " (<networkx.classes.digraph.DiGraph at 0x1611f48d0>, 75, 74),\n",
       " (<networkx.classes.digraph.DiGraph at 0x1610d2890>, 32, 31),\n",
       " (<networkx.classes.digraph.DiGraph at 0x1610a1010>, 25, 24)]"
      ]
     },
     "execution_count": 19,
     "metadata": {},
     "output_type": "execute_result"
    }
   ],
   "source": [
    "# Top 5\n",
    "wcc_rank[:5]"
   ]
  },
  {
   "cell_type": "code",
   "execution_count": 20,
   "id": "832a86ec",
   "metadata": {},
   "outputs": [],
   "source": [
    "giant_component = wcc_rank[0][0]"
   ]
  },
  {
   "cell_type": "code",
   "execution_count": 21,
   "id": "9abc72d6",
   "metadata": {},
   "outputs": [
    {
     "name": "stdout",
     "output_type": "stream",
     "text": [
      "Maximum degree 4577\n"
     ]
    }
   ],
   "source": [
    "degree_sequence = sorted((d for n, d in giant_component.degree()), reverse=True)\n",
    "print(\"Maximum degree\", degree_sequence[0])"
   ]
  },
  {
   "cell_type": "code",
   "execution_count": 22,
   "id": "aca77a64",
   "metadata": {},
   "outputs": [
    {
     "data": {
      "image/png": "[encoded data removed]",
      "text/plain": [
       "<Figure size 640x480 with 1 Axes>"
      ]
     },
     "metadata": {},
     "output_type": "display_data"
    }
   ],
   "source": [
    "# Degree distribution\n",
    "pd.Series(degree_sequence).plot.hist(bins=50, logy=True);"
   ]
  },
  {
   "cell_type": "markdown",
   "id": "8d769746",
   "metadata": {},
   "source": [
    "## Sample component"
   ]
  },
  {
   "cell_type": "code",
   "execution_count": 23,
   "id": "594fd3de",
   "metadata": {},
   "outputs": [],
   "source": [
    "import random as rnd\n",
    "rnd.seed(27) #42 # 37 #69 #27\n",
    "sample_size = 5000\n",
    "sampled_nodes = rnd.sample([node for node in giant_component.nodes], k=sample_size)\n",
    "sampled_G = G.subgraph(sampled_nodes)\n",
    "sampled_components = nx.weakly_connected_components(sampled_G)\n",
    "S = [sampled_G.subgraph(c).copy() for c in sampled_components]"
   ]
  },
  {
   "cell_type": "code",
   "execution_count": 24,
   "id": "197db72f",
   "metadata": {},
   "outputs": [
    {
     "name": "stdout",
     "output_type": "stream",
     "text": [
      "Top 5 weakly connected components by number of nodes\n",
      "\n",
      "(<networkx.classes.digraph.DiGraph object at 0x1615298d0>, 1069, 1930)\n",
      "(<networkx.classes.digraph.DiGraph object at 0x1615728d0>, 14, 13)\n",
      "(<networkx.classes.digraph.DiGraph object at 0x161601fd0>, 12, 11)\n",
      "(<networkx.classes.digraph.DiGraph object at 0x1615c2090>, 8, 7)\n",
      "(<networkx.classes.digraph.DiGraph object at 0x16148cf10>, 7, 6)\n"
     ]
    }
   ],
   "source": [
    "# Score each connected component and rank by the number of nodes\n",
    "wcc_rank = [(s, s.number_of_nodes(), s.number_of_edges()) for s in S]\n",
    "wcc_rank.sort(key=lambda x: x[1], reverse=True)\n",
    "print(\"Top 5 weakly connected components by number of nodes\\n\")\n",
    "[print(wcc_rank[n]) for n, _ in enumerate(wcc_rank[:5])];"
   ]
  },
  {
   "cell_type": "code",
   "execution_count": 25,
   "id": "aff301fa",
   "metadata": {},
   "outputs": [
    {
     "data": {
      "image/png": "[encoded data removed]",
      "text/plain": [
       "<Figure size 640x480 with 1 Axes>"
      ]
     },
     "metadata": {},
     "output_type": "display_data"
    }
   ],
   "source": [
    "degree_sequence = sorted((d for n, d in wcc_rank[0][0].degree()), reverse=True)\n",
    "pd.Series(degree_sequence).plot.hist(bins=50, logy=True);"
   ]
  },
  {
   "cell_type": "code",
   "execution_count": null,
   "id": "94a6ddc2",
   "metadata": {},
   "outputs": [],
   "source": []
  }
 ],
 "metadata": {
  "kernelspec": {
   "display_name": "Python 3 (ipykernel)",
   "language": "python",
   "name": "python3"
  },
  "language_info": {
   "codemirror_mode": {
    "name": "ipython",
    "version": 3
   },
   "file_extension": ".py",
   "mimetype": "text/x-python",
   "name": "python",
   "nbconvert_exporter": "python",
   "pygments_lexer": "ipython3",
   "version": "3.11.4"
  }
 },
 "nbformat": 4,
 "nbformat_minor": 5
}
